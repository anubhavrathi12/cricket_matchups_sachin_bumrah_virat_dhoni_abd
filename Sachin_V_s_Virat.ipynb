{
  "nbformat": 4,
  "nbformat_minor": 0,
  "metadata": {
    "colab": {
      "provenance": []
    },
    "kernelspec": {
      "name": "python3",
      "display_name": "Python 3"
    },
    "language_info": {
      "name": "python"
    }
  },
  "cells": [
    {
      "cell_type": "code",
      "execution_count": null,
      "metadata": {
        "id": "ZUC_uFU08Ug0"
      },
      "outputs": [],
      "source": [
        "import pandas as pd\n",
        "import numpy as np\n"
      ]
    },
    {
      "cell_type": "code",
      "source": [
        "df = pd.read_csv(\"/content/ODI_data.csv\")"
      ],
      "metadata": {
        "id": "FCiyW_sh8mOd"
      },
      "execution_count": null,
      "outputs": []
    },
    {
      "cell_type": "code",
      "source": [
        "df.head(2)"
      ],
      "metadata": {
        "colab": {
          "base_uri": "https://localhost:8080/",
          "height": 231
        },
        "id": "6RZm2o9C8tJm",
        "outputId": "b5678ec4-e553-4675-c7fb-c500f8895a7f"
      },
      "execution_count": null,
      "outputs": [
        {
          "output_type": "execute_result",
          "data": {
            "text/plain": [
              "  Innings Player Innings Runs Scored Innings Runs Scored Num  \\\n",
              "0        E Lewis                  65                      65   \n",
              "1       N Pooran                  42                      42   \n",
              "\n",
              "  Innings Minutes Batted  Innings Batted Flag  Innings Not Out Flag  \\\n",
              "0                    128                  1.0                   0.0   \n",
              "1                     69                  1.0                   0.0   \n",
              "\n",
              "  Innings Balls Faced Innings Boundary Fours Innings Boundary Sixes  \\\n",
              "0                  80                      8                      1   \n",
              "1                  52                      4                      1   \n",
              "\n",
              "  Innings Batting Strike Rate  ... Innings Overs Bowled Innings Bowled Flag  \\\n",
              "0                       81.25  ...                  NaN                 NaN   \n",
              "1                       80.76  ...                  NaN                 NaN   \n",
              "\n",
              "  Innings Maidens Bowled Innings Runs Conceded Innings Wickets Taken  \\\n",
              "0                    NaN                   NaN                   NaN   \n",
              "1                    NaN                   NaN                   NaN   \n",
              "\n",
              "   4 Wickets  5 Wickets 10 Wickets Innings Wickets Taken Buckets  \\\n",
              "0        NaN        NaN        NaN                           NaN   \n",
              "1        NaN        NaN        NaN                           NaN   \n",
              "\n",
              "   Innings Economy Rate  \n",
              "0                   NaN  \n",
              "1                   NaN  \n",
              "\n",
              "[2 rows x 28 columns]"
            ],
            "text/html": [
              "\n",
              "  <div id=\"df-f9c5d8b1-2249-453b-96b5-da576d323cd0\" class=\"colab-df-container\">\n",
              "    <div>\n",
              "<style scoped>\n",
              "    .dataframe tbody tr th:only-of-type {\n",
              "        vertical-align: middle;\n",
              "    }\n",
              "\n",
              "    .dataframe tbody tr th {\n",
              "        vertical-align: top;\n",
              "    }\n",
              "\n",
              "    .dataframe thead th {\n",
              "        text-align: right;\n",
              "    }\n",
              "</style>\n",
              "<table border=\"1\" class=\"dataframe\">\n",
              "  <thead>\n",
              "    <tr style=\"text-align: right;\">\n",
              "      <th></th>\n",
              "      <th>Innings Player</th>\n",
              "      <th>Innings Runs Scored</th>\n",
              "      <th>Innings Runs Scored Num</th>\n",
              "      <th>Innings Minutes Batted</th>\n",
              "      <th>Innings Batted Flag</th>\n",
              "      <th>Innings Not Out Flag</th>\n",
              "      <th>Innings Balls Faced</th>\n",
              "      <th>Innings Boundary Fours</th>\n",
              "      <th>Innings Boundary Sixes</th>\n",
              "      <th>Innings Batting Strike Rate</th>\n",
              "      <th>...</th>\n",
              "      <th>Innings Overs Bowled</th>\n",
              "      <th>Innings Bowled Flag</th>\n",
              "      <th>Innings Maidens Bowled</th>\n",
              "      <th>Innings Runs Conceded</th>\n",
              "      <th>Innings Wickets Taken</th>\n",
              "      <th>4 Wickets</th>\n",
              "      <th>5 Wickets</th>\n",
              "      <th>10 Wickets</th>\n",
              "      <th>Innings Wickets Taken Buckets</th>\n",
              "      <th>Innings Economy Rate</th>\n",
              "    </tr>\n",
              "  </thead>\n",
              "  <tbody>\n",
              "    <tr>\n",
              "      <th>0</th>\n",
              "      <td>E Lewis</td>\n",
              "      <td>65</td>\n",
              "      <td>65</td>\n",
              "      <td>128</td>\n",
              "      <td>1.0</td>\n",
              "      <td>0.0</td>\n",
              "      <td>80</td>\n",
              "      <td>8</td>\n",
              "      <td>1</td>\n",
              "      <td>81.25</td>\n",
              "      <td>...</td>\n",
              "      <td>NaN</td>\n",
              "      <td>NaN</td>\n",
              "      <td>NaN</td>\n",
              "      <td>NaN</td>\n",
              "      <td>NaN</td>\n",
              "      <td>NaN</td>\n",
              "      <td>NaN</td>\n",
              "      <td>NaN</td>\n",
              "      <td>NaN</td>\n",
              "      <td>NaN</td>\n",
              "    </tr>\n",
              "    <tr>\n",
              "      <th>1</th>\n",
              "      <td>N Pooran</td>\n",
              "      <td>42</td>\n",
              "      <td>42</td>\n",
              "      <td>69</td>\n",
              "      <td>1.0</td>\n",
              "      <td>0.0</td>\n",
              "      <td>52</td>\n",
              "      <td>4</td>\n",
              "      <td>1</td>\n",
              "      <td>80.76</td>\n",
              "      <td>...</td>\n",
              "      <td>NaN</td>\n",
              "      <td>NaN</td>\n",
              "      <td>NaN</td>\n",
              "      <td>NaN</td>\n",
              "      <td>NaN</td>\n",
              "      <td>NaN</td>\n",
              "      <td>NaN</td>\n",
              "      <td>NaN</td>\n",
              "      <td>NaN</td>\n",
              "      <td>NaN</td>\n",
              "    </tr>\n",
              "  </tbody>\n",
              "</table>\n",
              "<p>2 rows × 28 columns</p>\n",
              "</div>\n",
              "    <div class=\"colab-df-buttons\">\n",
              "\n",
              "  <div class=\"colab-df-container\">\n",
              "    <button class=\"colab-df-convert\" onclick=\"convertToInteractive('df-f9c5d8b1-2249-453b-96b5-da576d323cd0')\"\n",
              "            title=\"Convert this dataframe to an interactive table.\"\n",
              "            style=\"display:none;\">\n",
              "\n",
              "  <svg xmlns=\"http://www.w3.org/2000/svg\" height=\"24px\" viewBox=\"0 -960 960 960\">\n",
              "    <path d=\"M120-120v-720h720v720H120Zm60-500h600v-160H180v160Zm220 220h160v-160H400v160Zm0 220h160v-160H400v160ZM180-400h160v-160H180v160Zm440 0h160v-160H620v160ZM180-180h160v-160H180v160Zm440 0h160v-160H620v160Z\"/>\n",
              "  </svg>\n",
              "    </button>\n",
              "\n",
              "  <style>\n",
              "    .colab-df-container {\n",
              "      display:flex;\n",
              "      gap: 12px;\n",
              "    }\n",
              "\n",
              "    .colab-df-convert {\n",
              "      background-color: #E8F0FE;\n",
              "      border: none;\n",
              "      border-radius: 50%;\n",
              "      cursor: pointer;\n",
              "      display: none;\n",
              "      fill: #1967D2;\n",
              "      height: 32px;\n",
              "      padding: 0 0 0 0;\n",
              "      width: 32px;\n",
              "    }\n",
              "\n",
              "    .colab-df-convert:hover {\n",
              "      background-color: #E2EBFA;\n",
              "      box-shadow: 0px 1px 2px rgba(60, 64, 67, 0.3), 0px 1px 3px 1px rgba(60, 64, 67, 0.15);\n",
              "      fill: #174EA6;\n",
              "    }\n",
              "\n",
              "    .colab-df-buttons div {\n",
              "      margin-bottom: 4px;\n",
              "    }\n",
              "\n",
              "    [theme=dark] .colab-df-convert {\n",
              "      background-color: #3B4455;\n",
              "      fill: #D2E3FC;\n",
              "    }\n",
              "\n",
              "    [theme=dark] .colab-df-convert:hover {\n",
              "      background-color: #434B5C;\n",
              "      box-shadow: 0px 1px 3px 1px rgba(0, 0, 0, 0.15);\n",
              "      filter: drop-shadow(0px 1px 2px rgba(0, 0, 0, 0.3));\n",
              "      fill: #FFFFFF;\n",
              "    }\n",
              "  </style>\n",
              "\n",
              "    <script>\n",
              "      const buttonEl =\n",
              "        document.querySelector('#df-f9c5d8b1-2249-453b-96b5-da576d323cd0 button.colab-df-convert');\n",
              "      buttonEl.style.display =\n",
              "        google.colab.kernel.accessAllowed ? 'block' : 'none';\n",
              "\n",
              "      async function convertToInteractive(key) {\n",
              "        const element = document.querySelector('#df-f9c5d8b1-2249-453b-96b5-da576d323cd0');\n",
              "        const dataTable =\n",
              "          await google.colab.kernel.invokeFunction('convertToInteractive',\n",
              "                                                    [key], {});\n",
              "        if (!dataTable) return;\n",
              "\n",
              "        const docLinkHtml = 'Like what you see? Visit the ' +\n",
              "          '<a target=\"_blank\" href=https://colab.research.google.com/notebooks/data_table.ipynb>data table notebook</a>'\n",
              "          + ' to learn more about interactive tables.';\n",
              "        element.innerHTML = '';\n",
              "        dataTable['output_type'] = 'display_data';\n",
              "        await google.colab.output.renderOutput(dataTable, element);\n",
              "        const docLink = document.createElement('div');\n",
              "        docLink.innerHTML = docLinkHtml;\n",
              "        element.appendChild(docLink);\n",
              "      }\n",
              "    </script>\n",
              "  </div>\n",
              "\n",
              "\n",
              "<div id=\"df-bb550546-b998-49f8-b9eb-850aaf67a785\">\n",
              "  <button class=\"colab-df-quickchart\" onclick=\"quickchart('df-bb550546-b998-49f8-b9eb-850aaf67a785')\"\n",
              "            title=\"Suggest charts\"\n",
              "            style=\"display:none;\">\n",
              "\n",
              "<svg xmlns=\"http://www.w3.org/2000/svg\" height=\"24px\"viewBox=\"0 0 24 24\"\n",
              "     width=\"24px\">\n",
              "    <g>\n",
              "        <path d=\"M19 3H5c-1.1 0-2 .9-2 2v14c0 1.1.9 2 2 2h14c1.1 0 2-.9 2-2V5c0-1.1-.9-2-2-2zM9 17H7v-7h2v7zm4 0h-2V7h2v10zm4 0h-2v-4h2v4z\"/>\n",
              "    </g>\n",
              "</svg>\n",
              "  </button>\n",
              "\n",
              "<style>\n",
              "  .colab-df-quickchart {\n",
              "      --bg-color: #E8F0FE;\n",
              "      --fill-color: #1967D2;\n",
              "      --hover-bg-color: #E2EBFA;\n",
              "      --hover-fill-color: #174EA6;\n",
              "      --disabled-fill-color: #AAA;\n",
              "      --disabled-bg-color: #DDD;\n",
              "  }\n",
              "\n",
              "  [theme=dark] .colab-df-quickchart {\n",
              "      --bg-color: #3B4455;\n",
              "      --fill-color: #D2E3FC;\n",
              "      --hover-bg-color: #434B5C;\n",
              "      --hover-fill-color: #FFFFFF;\n",
              "      --disabled-bg-color: #3B4455;\n",
              "      --disabled-fill-color: #666;\n",
              "  }\n",
              "\n",
              "  .colab-df-quickchart {\n",
              "    background-color: var(--bg-color);\n",
              "    border: none;\n",
              "    border-radius: 50%;\n",
              "    cursor: pointer;\n",
              "    display: none;\n",
              "    fill: var(--fill-color);\n",
              "    height: 32px;\n",
              "    padding: 0;\n",
              "    width: 32px;\n",
              "  }\n",
              "\n",
              "  .colab-df-quickchart:hover {\n",
              "    background-color: var(--hover-bg-color);\n",
              "    box-shadow: 0 1px 2px rgba(60, 64, 67, 0.3), 0 1px 3px 1px rgba(60, 64, 67, 0.15);\n",
              "    fill: var(--button-hover-fill-color);\n",
              "  }\n",
              "\n",
              "  .colab-df-quickchart-complete:disabled,\n",
              "  .colab-df-quickchart-complete:disabled:hover {\n",
              "    background-color: var(--disabled-bg-color);\n",
              "    fill: var(--disabled-fill-color);\n",
              "    box-shadow: none;\n",
              "  }\n",
              "\n",
              "  .colab-df-spinner {\n",
              "    border: 2px solid var(--fill-color);\n",
              "    border-color: transparent;\n",
              "    border-bottom-color: var(--fill-color);\n",
              "    animation:\n",
              "      spin 1s steps(1) infinite;\n",
              "  }\n",
              "\n",
              "  @keyframes spin {\n",
              "    0% {\n",
              "      border-color: transparent;\n",
              "      border-bottom-color: var(--fill-color);\n",
              "      border-left-color: var(--fill-color);\n",
              "    }\n",
              "    20% {\n",
              "      border-color: transparent;\n",
              "      border-left-color: var(--fill-color);\n",
              "      border-top-color: var(--fill-color);\n",
              "    }\n",
              "    30% {\n",
              "      border-color: transparent;\n",
              "      border-left-color: var(--fill-color);\n",
              "      border-top-color: var(--fill-color);\n",
              "      border-right-color: var(--fill-color);\n",
              "    }\n",
              "    40% {\n",
              "      border-color: transparent;\n",
              "      border-right-color: var(--fill-color);\n",
              "      border-top-color: var(--fill-color);\n",
              "    }\n",
              "    60% {\n",
              "      border-color: transparent;\n",
              "      border-right-color: var(--fill-color);\n",
              "    }\n",
              "    80% {\n",
              "      border-color: transparent;\n",
              "      border-right-color: var(--fill-color);\n",
              "      border-bottom-color: var(--fill-color);\n",
              "    }\n",
              "    90% {\n",
              "      border-color: transparent;\n",
              "      border-bottom-color: var(--fill-color);\n",
              "    }\n",
              "  }\n",
              "</style>\n",
              "\n",
              "  <script>\n",
              "    async function quickchart(key) {\n",
              "      const quickchartButtonEl =\n",
              "        document.querySelector('#' + key + ' button');\n",
              "      quickchartButtonEl.disabled = true;  // To prevent multiple clicks.\n",
              "      quickchartButtonEl.classList.add('colab-df-spinner');\n",
              "      try {\n",
              "        const charts = await google.colab.kernel.invokeFunction(\n",
              "            'suggestCharts', [key], {});\n",
              "      } catch (error) {\n",
              "        console.error('Error during call to suggestCharts:', error);\n",
              "      }\n",
              "      quickchartButtonEl.classList.remove('colab-df-spinner');\n",
              "      quickchartButtonEl.classList.add('colab-df-quickchart-complete');\n",
              "    }\n",
              "    (() => {\n",
              "      let quickchartButtonEl =\n",
              "        document.querySelector('#df-bb550546-b998-49f8-b9eb-850aaf67a785 button');\n",
              "      quickchartButtonEl.style.display =\n",
              "        google.colab.kernel.accessAllowed ? 'block' : 'none';\n",
              "    })();\n",
              "  </script>\n",
              "</div>\n",
              "\n",
              "    </div>\n",
              "  </div>\n"
            ],
            "application/vnd.google.colaboratory.intrinsic+json": {
              "type": "dataframe",
              "variable_name": "df"
            }
          },
          "metadata": {},
          "execution_count": 96
        }
      ]
    },
    {
      "cell_type": "code",
      "source": [
        "df['Innings Runs Scored Num'].unique()"
      ],
      "metadata": {
        "colab": {
          "base_uri": "https://localhost:8080/"
        },
        "id": "0TdzjC3L_Jb5",
        "outputId": "009fb1b3-09ed-4763-8c58-adc49b0fc5f9"
      },
      "execution_count": null,
      "outputs": [
        {
          "output_type": "execute_result",
          "data": {
            "text/plain": [
              "array(['65', '42', '18', '17', '13', '11', '5', '0', '120', '71', '20',\n",
              "       '16', '3', '2', '1', '-', nan, '40', '6', '4', '87', '54', '46',\n",
              "       '30', '12', '69', '39', '14', '10', '9', '8', '7', '82', '52',\n",
              "       '41', '15', '98', '43', '19', '111', '48', '36', '25', '67', '60',\n",
              "       '84', '59', '55', '47', '85', '49', '45', '34', '29', '22', '74',\n",
              "       '28', '77', '50', '32', '23', '35', '122', '100', '95', '103',\n",
              "       '113', '53', '96', '27', '64', '58', '33', '31', '73', '56', '86',\n",
              "       '62', '106', '24', '57', '104', '26', '66', '51', '118', '105',\n",
              "       '101', '21', '79', '44', '102', '88', '80', '72', '97', '68', '89',\n",
              "       '38', '83', '63', '148', '166', '90', '76', '37', '70', '124',\n",
              "       '94', '140', '153', '107', '117', '121', '92', '78', '75', '114',\n",
              "       '115', '130', '128', '151', '110', '138', '135', '109', '61',\n",
              "       '179', '170', '112', '116', '91', '143', '93', '123', '145', '81',\n",
              "       '150', '162', '108', '131', '133', '137', '146', '139', '125',\n",
              "       '129', '157', '152', '144', '99', '127', '210', '147', '126',\n",
              "       '181', '160', '180', '208', '176', '168', '141', '132', '119',\n",
              "       '154', '185', '134', '156', '164', '173', '178', '171', '149',\n",
              "       '237', '159', '161', '215', '264', '136', '169', '209', '174',\n",
              "       '189', '183', '163', '219', '158', '175', '177', '200', '194',\n",
              "       '142', '172', '186', '188', '167'], dtype=object)"
            ]
          },
          "metadata": {},
          "execution_count": 97
        }
      ]
    },
    {
      "cell_type": "code",
      "source": [
        "df = df[df['Innings Runs Scored Num'] != '-']"
      ],
      "metadata": {
        "id": "nqbNB34e_2rx"
      },
      "execution_count": null,
      "outputs": []
    },
    {
      "cell_type": "code",
      "source": [
        "df['Innings Runs Scored Num'].unique()"
      ],
      "metadata": {
        "colab": {
          "base_uri": "https://localhost:8080/"
        },
        "id": "0x9ShDenA-X3",
        "outputId": "3145fe81-942c-4ea3-adb4-bf492a275917"
      },
      "execution_count": null,
      "outputs": [
        {
          "output_type": "execute_result",
          "data": {
            "text/plain": [
              "array(['65', '42', '18', '17', '13', '11', '5', '0', '120', '71', '20',\n",
              "       '16', '3', '2', '1', nan, '40', '6', '4', '87', '54', '46', '30',\n",
              "       '12', '69', '39', '14', '10', '9', '8', '7', '82', '52', '41',\n",
              "       '15', '98', '43', '19', '111', '48', '36', '25', '67', '60', '84',\n",
              "       '59', '55', '47', '85', '49', '45', '34', '29', '22', '74', '28',\n",
              "       '77', '50', '32', '23', '35', '122', '100', '95', '103', '113',\n",
              "       '53', '96', '27', '64', '58', '33', '31', '73', '56', '86', '62',\n",
              "       '106', '24', '57', '104', '26', '66', '51', '118', '105', '101',\n",
              "       '21', '79', '44', '102', '88', '80', '72', '97', '68', '89', '38',\n",
              "       '83', '63', '148', '166', '90', '76', '37', '70', '124', '94',\n",
              "       '140', '153', '107', '117', '121', '92', '78', '75', '114', '115',\n",
              "       '130', '128', '151', '110', '138', '135', '109', '61', '179',\n",
              "       '170', '112', '116', '91', '143', '93', '123', '145', '81', '150',\n",
              "       '162', '108', '131', '133', '137', '146', '139', '125', '129',\n",
              "       '157', '152', '144', '99', '127', '210', '147', '126', '181',\n",
              "       '160', '180', '208', '176', '168', '141', '132', '119', '154',\n",
              "       '185', '134', '156', '164', '173', '178', '171', '149', '237',\n",
              "       '159', '161', '215', '264', '136', '169', '209', '174', '189',\n",
              "       '183', '163', '219', '158', '175', '177', '200', '194', '142',\n",
              "       '172', '186', '188', '167'], dtype=object)"
            ]
          },
          "metadata": {},
          "execution_count": 99
        }
      ]
    },
    {
      "cell_type": "code",
      "source": [
        "df = df.dropna(subset = ['Innings Runs Scored Num'])"
      ],
      "metadata": {
        "id": "JzmrhIMCBAqp"
      },
      "execution_count": null,
      "outputs": []
    },
    {
      "cell_type": "code",
      "source": [
        "df['Innings Runs Scored Num'].unique()"
      ],
      "metadata": {
        "colab": {
          "base_uri": "https://localhost:8080/"
        },
        "id": "uUtGkuxlBKBP",
        "outputId": "e9f3f68f-293c-434f-8883-ae1172649533"
      },
      "execution_count": null,
      "outputs": [
        {
          "output_type": "execute_result",
          "data": {
            "text/plain": [
              "array(['65', '42', '18', '17', '13', '11', '5', '0', '120', '71', '20',\n",
              "       '16', '3', '2', '1', '40', '6', '4', '87', '54', '46', '30', '12',\n",
              "       '69', '39', '14', '10', '9', '8', '7', '82', '52', '41', '15',\n",
              "       '98', '43', '19', '111', '48', '36', '25', '67', '60', '84', '59',\n",
              "       '55', '47', '85', '49', '45', '34', '29', '22', '74', '28', '77',\n",
              "       '50', '32', '23', '35', '122', '100', '95', '103', '113', '53',\n",
              "       '96', '27', '64', '58', '33', '31', '73', '56', '86', '62', '106',\n",
              "       '24', '57', '104', '26', '66', '51', '118', '105', '101', '21',\n",
              "       '79', '44', '102', '88', '80', '72', '97', '68', '89', '38', '83',\n",
              "       '63', '148', '166', '90', '76', '37', '70', '124', '94', '140',\n",
              "       '153', '107', '117', '121', '92', '78', '75', '114', '115', '130',\n",
              "       '128', '151', '110', '138', '135', '109', '61', '179', '170',\n",
              "       '112', '116', '91', '143', '93', '123', '145', '81', '150', '162',\n",
              "       '108', '131', '133', '137', '146', '139', '125', '129', '157',\n",
              "       '152', '144', '99', '127', '210', '147', '126', '181', '160',\n",
              "       '180', '208', '176', '168', '141', '132', '119', '154', '185',\n",
              "       '134', '156', '164', '173', '178', '171', '149', '237', '159',\n",
              "       '161', '215', '264', '136', '169', '209', '174', '189', '183',\n",
              "       '163', '219', '158', '175', '177', '200', '194', '142', '172',\n",
              "       '186', '188', '167'], dtype=object)"
            ]
          },
          "metadata": {},
          "execution_count": 101
        }
      ]
    },
    {
      "cell_type": "code",
      "source": [
        "df.columns\n"
      ],
      "metadata": {
        "colab": {
          "base_uri": "https://localhost:8080/"
        },
        "id": "YL25iYR5DYeW",
        "outputId": "efd36709-3f39-46ed-be9d-50961637cc77"
      },
      "execution_count": null,
      "outputs": [
        {
          "output_type": "execute_result",
          "data": {
            "text/plain": [
              "Index(['Innings Player', 'Innings Runs Scored', 'Innings Runs Scored Num',\n",
              "       'Innings Minutes Batted', 'Innings Batted Flag', 'Innings Not Out Flag',\n",
              "       'Innings Balls Faced', 'Innings Boundary Fours',\n",
              "       'Innings Boundary Sixes', 'Innings Batting Strike Rate',\n",
              "       'Innings Number', 'Opposition', 'Ground', 'Innings Date', 'Country',\n",
              "       '50's', '100's', 'Innings Runs Scored Buckets', 'Innings Overs Bowled',\n",
              "       'Innings Bowled Flag', 'Innings Maidens Bowled',\n",
              "       'Innings Runs Conceded', 'Innings Wickets Taken', '4 Wickets',\n",
              "       '5 Wickets', '10 Wickets', 'Innings Wickets Taken Buckets',\n",
              "       'Innings Economy Rate'],\n",
              "      dtype='object')"
            ]
          },
          "metadata": {},
          "execution_count": 102
        }
      ]
    },
    {
      "cell_type": "code",
      "source": [
        "#convert to datetime\n",
        "df['Innings Date'] = pd.to_datetime(df['Innings Date'])"
      ],
      "metadata": {
        "colab": {
          "base_uri": "https://localhost:8080/"
        },
        "id": "PrShwLp8C56f",
        "outputId": "289e23df-8289-490b-a206-674bbf6e6a73"
      },
      "execution_count": null,
      "outputs": [
        {
          "output_type": "stream",
          "name": "stderr",
          "text": [
            "<ipython-input-103-4419583d4d30>:2: UserWarning: Parsing dates in DD/MM/YYYY format when dayfirst=False (the default) was specified. This may lead to inconsistently parsed dates! Specify a format to ensure consistent parsing.\n",
            "  df['Innings Date'] = pd.to_datetime(df['Innings Date'])\n",
            "<ipython-input-103-4419583d4d30>:2: SettingWithCopyWarning: \n",
            "A value is trying to be set on a copy of a slice from a DataFrame.\n",
            "Try using .loc[row_indexer,col_indexer] = value instead\n",
            "\n",
            "See the caveats in the documentation: https://pandas.pydata.org/pandas-docs/stable/user_guide/indexing.html#returning-a-view-versus-a-copy\n",
            "  df['Innings Date'] = pd.to_datetime(df['Innings Date'])\n"
          ]
        }
      ]
    },
    {
      "cell_type": "code",
      "source": [
        "df['year'] = df['Innings Date'].dt.year\n"
      ],
      "metadata": {
        "id": "JeSMJxDgEGN5"
      },
      "execution_count": null,
      "outputs": []
    },
    {
      "cell_type": "code",
      "source": [
        "df.head(1)"
      ],
      "metadata": {
        "colab": {
          "base_uri": "https://localhost:8080/",
          "height": 182
        },
        "id": "MLKATKfhER6G",
        "outputId": "e000ca17-f45e-4774-ff9c-d5eb88d344b4"
      },
      "execution_count": null,
      "outputs": [
        {
          "output_type": "execute_result",
          "data": {
            "text/plain": [
              "  Innings Player Innings Runs Scored Innings Runs Scored Num  \\\n",
              "0        E Lewis                  65                      65   \n",
              "\n",
              "  Innings Minutes Batted  Innings Batted Flag  Innings Not Out Flag  \\\n",
              "0                    128                  1.0                   0.0   \n",
              "\n",
              "  Innings Balls Faced Innings Boundary Fours Innings Boundary Sixes  \\\n",
              "0                  80                      8                      1   \n",
              "\n",
              "  Innings Batting Strike Rate  ... Innings Bowled Flag Innings Maidens Bowled  \\\n",
              "0                       81.25  ...                 NaN                    NaN   \n",
              "\n",
              "  Innings Runs Conceded Innings Wickets Taken 4 Wickets  5 Wickets  \\\n",
              "0                   NaN                   NaN       NaN        NaN   \n",
              "\n",
              "   10 Wickets Innings Wickets Taken Buckets Innings Economy Rate  year  \n",
              "0         NaN                           NaN                  NaN  2019  \n",
              "\n",
              "[1 rows x 29 columns]"
            ],
            "text/html": [
              "\n",
              "  <div id=\"df-47373cff-6892-44ff-b8cd-cbd90db906e0\" class=\"colab-df-container\">\n",
              "    <div>\n",
              "<style scoped>\n",
              "    .dataframe tbody tr th:only-of-type {\n",
              "        vertical-align: middle;\n",
              "    }\n",
              "\n",
              "    .dataframe tbody tr th {\n",
              "        vertical-align: top;\n",
              "    }\n",
              "\n",
              "    .dataframe thead th {\n",
              "        text-align: right;\n",
              "    }\n",
              "</style>\n",
              "<table border=\"1\" class=\"dataframe\">\n",
              "  <thead>\n",
              "    <tr style=\"text-align: right;\">\n",
              "      <th></th>\n",
              "      <th>Innings Player</th>\n",
              "      <th>Innings Runs Scored</th>\n",
              "      <th>Innings Runs Scored Num</th>\n",
              "      <th>Innings Minutes Batted</th>\n",
              "      <th>Innings Batted Flag</th>\n",
              "      <th>Innings Not Out Flag</th>\n",
              "      <th>Innings Balls Faced</th>\n",
              "      <th>Innings Boundary Fours</th>\n",
              "      <th>Innings Boundary Sixes</th>\n",
              "      <th>Innings Batting Strike Rate</th>\n",
              "      <th>...</th>\n",
              "      <th>Innings Bowled Flag</th>\n",
              "      <th>Innings Maidens Bowled</th>\n",
              "      <th>Innings Runs Conceded</th>\n",
              "      <th>Innings Wickets Taken</th>\n",
              "      <th>4 Wickets</th>\n",
              "      <th>5 Wickets</th>\n",
              "      <th>10 Wickets</th>\n",
              "      <th>Innings Wickets Taken Buckets</th>\n",
              "      <th>Innings Economy Rate</th>\n",
              "      <th>year</th>\n",
              "    </tr>\n",
              "  </thead>\n",
              "  <tbody>\n",
              "    <tr>\n",
              "      <th>0</th>\n",
              "      <td>E Lewis</td>\n",
              "      <td>65</td>\n",
              "      <td>65</td>\n",
              "      <td>128</td>\n",
              "      <td>1.0</td>\n",
              "      <td>0.0</td>\n",
              "      <td>80</td>\n",
              "      <td>8</td>\n",
              "      <td>1</td>\n",
              "      <td>81.25</td>\n",
              "      <td>...</td>\n",
              "      <td>NaN</td>\n",
              "      <td>NaN</td>\n",
              "      <td>NaN</td>\n",
              "      <td>NaN</td>\n",
              "      <td>NaN</td>\n",
              "      <td>NaN</td>\n",
              "      <td>NaN</td>\n",
              "      <td>NaN</td>\n",
              "      <td>NaN</td>\n",
              "      <td>2019</td>\n",
              "    </tr>\n",
              "  </tbody>\n",
              "</table>\n",
              "<p>1 rows × 29 columns</p>\n",
              "</div>\n",
              "    <div class=\"colab-df-buttons\">\n",
              "\n",
              "  <div class=\"colab-df-container\">\n",
              "    <button class=\"colab-df-convert\" onclick=\"convertToInteractive('df-47373cff-6892-44ff-b8cd-cbd90db906e0')\"\n",
              "            title=\"Convert this dataframe to an interactive table.\"\n",
              "            style=\"display:none;\">\n",
              "\n",
              "  <svg xmlns=\"http://www.w3.org/2000/svg\" height=\"24px\" viewBox=\"0 -960 960 960\">\n",
              "    <path d=\"M120-120v-720h720v720H120Zm60-500h600v-160H180v160Zm220 220h160v-160H400v160Zm0 220h160v-160H400v160ZM180-400h160v-160H180v160Zm440 0h160v-160H620v160ZM180-180h160v-160H180v160Zm440 0h160v-160H620v160Z\"/>\n",
              "  </svg>\n",
              "    </button>\n",
              "\n",
              "  <style>\n",
              "    .colab-df-container {\n",
              "      display:flex;\n",
              "      gap: 12px;\n",
              "    }\n",
              "\n",
              "    .colab-df-convert {\n",
              "      background-color: #E8F0FE;\n",
              "      border: none;\n",
              "      border-radius: 50%;\n",
              "      cursor: pointer;\n",
              "      display: none;\n",
              "      fill: #1967D2;\n",
              "      height: 32px;\n",
              "      padding: 0 0 0 0;\n",
              "      width: 32px;\n",
              "    }\n",
              "\n",
              "    .colab-df-convert:hover {\n",
              "      background-color: #E2EBFA;\n",
              "      box-shadow: 0px 1px 2px rgba(60, 64, 67, 0.3), 0px 1px 3px 1px rgba(60, 64, 67, 0.15);\n",
              "      fill: #174EA6;\n",
              "    }\n",
              "\n",
              "    .colab-df-buttons div {\n",
              "      margin-bottom: 4px;\n",
              "    }\n",
              "\n",
              "    [theme=dark] .colab-df-convert {\n",
              "      background-color: #3B4455;\n",
              "      fill: #D2E3FC;\n",
              "    }\n",
              "\n",
              "    [theme=dark] .colab-df-convert:hover {\n",
              "      background-color: #434B5C;\n",
              "      box-shadow: 0px 1px 3px 1px rgba(0, 0, 0, 0.15);\n",
              "      filter: drop-shadow(0px 1px 2px rgba(0, 0, 0, 0.3));\n",
              "      fill: #FFFFFF;\n",
              "    }\n",
              "  </style>\n",
              "\n",
              "    <script>\n",
              "      const buttonEl =\n",
              "        document.querySelector('#df-47373cff-6892-44ff-b8cd-cbd90db906e0 button.colab-df-convert');\n",
              "      buttonEl.style.display =\n",
              "        google.colab.kernel.accessAllowed ? 'block' : 'none';\n",
              "\n",
              "      async function convertToInteractive(key) {\n",
              "        const element = document.querySelector('#df-47373cff-6892-44ff-b8cd-cbd90db906e0');\n",
              "        const dataTable =\n",
              "          await google.colab.kernel.invokeFunction('convertToInteractive',\n",
              "                                                    [key], {});\n",
              "        if (!dataTable) return;\n",
              "\n",
              "        const docLinkHtml = 'Like what you see? Visit the ' +\n",
              "          '<a target=\"_blank\" href=https://colab.research.google.com/notebooks/data_table.ipynb>data table notebook</a>'\n",
              "          + ' to learn more about interactive tables.';\n",
              "        element.innerHTML = '';\n",
              "        dataTable['output_type'] = 'display_data';\n",
              "        await google.colab.output.renderOutput(dataTable, element);\n",
              "        const docLink = document.createElement('div');\n",
              "        docLink.innerHTML = docLinkHtml;\n",
              "        element.appendChild(docLink);\n",
              "      }\n",
              "    </script>\n",
              "  </div>\n",
              "\n",
              "\n",
              "    </div>\n",
              "  </div>\n"
            ],
            "application/vnd.google.colaboratory.intrinsic+json": {
              "type": "dataframe",
              "variable_name": "df"
            }
          },
          "metadata": {},
          "execution_count": 105
        }
      ]
    },
    {
      "cell_type": "code",
      "source": [
        "df['Innings Runs Scored Num'] = df['Innings Runs Scored Num'].astype('int')\n",
        "df['Innings Balls Faced'] = df['Innings Balls Faced'].astype('int')\n",
        "df['Innings Not Out Flag'] = df['Innings Not Out Flag'].astype('int')"
      ],
      "metadata": {
        "id": "645yRVKsK2Zf"
      },
      "execution_count": null,
      "outputs": []
    },
    {
      "cell_type": "code",
      "source": [],
      "metadata": {
        "id": "4L_AVgi8Lhon"
      },
      "execution_count": null,
      "outputs": []
    },
    {
      "cell_type": "code",
      "source": [
        "sachin_df = df[(df.year >=1994) & (df.year<=2004)]"
      ],
      "metadata": {
        "id": "jA8hofnfEd6_"
      },
      "execution_count": null,
      "outputs": []
    },
    {
      "cell_type": "code",
      "source": [
        "virat_df = df[(df.year >=2009) & (df.year<=2019)]"
      ],
      "metadata": {
        "id": "my6hh7xiEUEJ"
      },
      "execution_count": null,
      "outputs": []
    },
    {
      "cell_type": "code",
      "source": [
        "# Runs per innings = Total Runs/Total innings\n",
        "# SR =  100*(total runs/total balls)\n",
        "# 100's = sum(100)\n",
        "# 50's = sum(50)\n",
        "# team cotribution = player scores/team scores"
      ],
      "metadata": {
        "id": "zZZ4H1mXE0cp"
      },
      "execution_count": null,
      "outputs": []
    },
    {
      "cell_type": "code",
      "source": [
        "#SR Tendulkar\n",
        "sdf = sachin_df[sachin_df['Innings Player'] == 'SR Tendulkar']"
      ],
      "metadata": {
        "id": "FEOLNZNCMbdM"
      },
      "execution_count": null,
      "outputs": []
    },
    {
      "cell_type": "code",
      "source": [
        "sdf.head(2)"
      ],
      "metadata": {
        "colab": {
          "base_uri": "https://localhost:8080/",
          "height": 248
        },
        "id": "n2_Fdsc0Mysk",
        "outputId": "407e2459-a53e-47cd-e0f3-fb30e0b848b0"
      },
      "execution_count": null,
      "outputs": [
        {
          "output_type": "execute_result",
          "data": {
            "text/plain": [
              "      Innings Player Innings Runs Scored  Innings Runs Scored Num  \\\n",
              "77614   SR Tendulkar                  47                       47   \n",
              "77747   SR Tendulkar                  19                       19   \n",
              "\n",
              "      Innings Minutes Batted  Innings Batted Flag  Innings Not Out Flag  \\\n",
              "77614                     60                  1.0                     0   \n",
              "77747                     46                  1.0                     0   \n",
              "\n",
              "       Innings Balls Faced Innings Boundary Fours Innings Boundary Sixes  \\\n",
              "77614                   42                      9                      0   \n",
              "77747                   32                      3                      0   \n",
              "\n",
              "      Innings Batting Strike Rate  ... Innings Bowled Flag  \\\n",
              "77614                       111.9  ...                 NaN   \n",
              "77747                       59.37  ...                 NaN   \n",
              "\n",
              "      Innings Maidens Bowled Innings Runs Conceded Innings Wickets Taken  \\\n",
              "77614                    NaN                   NaN                   NaN   \n",
              "77747                    NaN                   NaN                   NaN   \n",
              "\n",
              "      4 Wickets  5 Wickets  10 Wickets Innings Wickets Taken Buckets  \\\n",
              "77614       NaN        NaN         NaN                           NaN   \n",
              "77747       NaN        NaN         NaN                           NaN   \n",
              "\n",
              "      Innings Economy Rate  year  \n",
              "77614                  NaN  2004  \n",
              "77747                  NaN  2004  \n",
              "\n",
              "[2 rows x 29 columns]"
            ],
            "text/html": [
              "\n",
              "  <div id=\"df-fae747e4-b8ee-49f2-82d3-c0550899997b\" class=\"colab-df-container\">\n",
              "    <div>\n",
              "<style scoped>\n",
              "    .dataframe tbody tr th:only-of-type {\n",
              "        vertical-align: middle;\n",
              "    }\n",
              "\n",
              "    .dataframe tbody tr th {\n",
              "        vertical-align: top;\n",
              "    }\n",
              "\n",
              "    .dataframe thead th {\n",
              "        text-align: right;\n",
              "    }\n",
              "</style>\n",
              "<table border=\"1\" class=\"dataframe\">\n",
              "  <thead>\n",
              "    <tr style=\"text-align: right;\">\n",
              "      <th></th>\n",
              "      <th>Innings Player</th>\n",
              "      <th>Innings Runs Scored</th>\n",
              "      <th>Innings Runs Scored Num</th>\n",
              "      <th>Innings Minutes Batted</th>\n",
              "      <th>Innings Batted Flag</th>\n",
              "      <th>Innings Not Out Flag</th>\n",
              "      <th>Innings Balls Faced</th>\n",
              "      <th>Innings Boundary Fours</th>\n",
              "      <th>Innings Boundary Sixes</th>\n",
              "      <th>Innings Batting Strike Rate</th>\n",
              "      <th>...</th>\n",
              "      <th>Innings Bowled Flag</th>\n",
              "      <th>Innings Maidens Bowled</th>\n",
              "      <th>Innings Runs Conceded</th>\n",
              "      <th>Innings Wickets Taken</th>\n",
              "      <th>4 Wickets</th>\n",
              "      <th>5 Wickets</th>\n",
              "      <th>10 Wickets</th>\n",
              "      <th>Innings Wickets Taken Buckets</th>\n",
              "      <th>Innings Economy Rate</th>\n",
              "      <th>year</th>\n",
              "    </tr>\n",
              "  </thead>\n",
              "  <tbody>\n",
              "    <tr>\n",
              "      <th>77614</th>\n",
              "      <td>SR Tendulkar</td>\n",
              "      <td>47</td>\n",
              "      <td>47</td>\n",
              "      <td>60</td>\n",
              "      <td>1.0</td>\n",
              "      <td>0</td>\n",
              "      <td>42</td>\n",
              "      <td>9</td>\n",
              "      <td>0</td>\n",
              "      <td>111.9</td>\n",
              "      <td>...</td>\n",
              "      <td>NaN</td>\n",
              "      <td>NaN</td>\n",
              "      <td>NaN</td>\n",
              "      <td>NaN</td>\n",
              "      <td>NaN</td>\n",
              "      <td>NaN</td>\n",
              "      <td>NaN</td>\n",
              "      <td>NaN</td>\n",
              "      <td>NaN</td>\n",
              "      <td>2004</td>\n",
              "    </tr>\n",
              "    <tr>\n",
              "      <th>77747</th>\n",
              "      <td>SR Tendulkar</td>\n",
              "      <td>19</td>\n",
              "      <td>19</td>\n",
              "      <td>46</td>\n",
              "      <td>1.0</td>\n",
              "      <td>0</td>\n",
              "      <td>32</td>\n",
              "      <td>3</td>\n",
              "      <td>0</td>\n",
              "      <td>59.37</td>\n",
              "      <td>...</td>\n",
              "      <td>NaN</td>\n",
              "      <td>NaN</td>\n",
              "      <td>NaN</td>\n",
              "      <td>NaN</td>\n",
              "      <td>NaN</td>\n",
              "      <td>NaN</td>\n",
              "      <td>NaN</td>\n",
              "      <td>NaN</td>\n",
              "      <td>NaN</td>\n",
              "      <td>2004</td>\n",
              "    </tr>\n",
              "  </tbody>\n",
              "</table>\n",
              "<p>2 rows × 29 columns</p>\n",
              "</div>\n",
              "    <div class=\"colab-df-buttons\">\n",
              "\n",
              "  <div class=\"colab-df-container\">\n",
              "    <button class=\"colab-df-convert\" onclick=\"convertToInteractive('df-fae747e4-b8ee-49f2-82d3-c0550899997b')\"\n",
              "            title=\"Convert this dataframe to an interactive table.\"\n",
              "            style=\"display:none;\">\n",
              "\n",
              "  <svg xmlns=\"http://www.w3.org/2000/svg\" height=\"24px\" viewBox=\"0 -960 960 960\">\n",
              "    <path d=\"M120-120v-720h720v720H120Zm60-500h600v-160H180v160Zm220 220h160v-160H400v160Zm0 220h160v-160H400v160ZM180-400h160v-160H180v160Zm440 0h160v-160H620v160ZM180-180h160v-160H180v160Zm440 0h160v-160H620v160Z\"/>\n",
              "  </svg>\n",
              "    </button>\n",
              "\n",
              "  <style>\n",
              "    .colab-df-container {\n",
              "      display:flex;\n",
              "      gap: 12px;\n",
              "    }\n",
              "\n",
              "    .colab-df-convert {\n",
              "      background-color: #E8F0FE;\n",
              "      border: none;\n",
              "      border-radius: 50%;\n",
              "      cursor: pointer;\n",
              "      display: none;\n",
              "      fill: #1967D2;\n",
              "      height: 32px;\n",
              "      padding: 0 0 0 0;\n",
              "      width: 32px;\n",
              "    }\n",
              "\n",
              "    .colab-df-convert:hover {\n",
              "      background-color: #E2EBFA;\n",
              "      box-shadow: 0px 1px 2px rgba(60, 64, 67, 0.3), 0px 1px 3px 1px rgba(60, 64, 67, 0.15);\n",
              "      fill: #174EA6;\n",
              "    }\n",
              "\n",
              "    .colab-df-buttons div {\n",
              "      margin-bottom: 4px;\n",
              "    }\n",
              "\n",
              "    [theme=dark] .colab-df-convert {\n",
              "      background-color: #3B4455;\n",
              "      fill: #D2E3FC;\n",
              "    }\n",
              "\n",
              "    [theme=dark] .colab-df-convert:hover {\n",
              "      background-color: #434B5C;\n",
              "      box-shadow: 0px 1px 3px 1px rgba(0, 0, 0, 0.15);\n",
              "      filter: drop-shadow(0px 1px 2px rgba(0, 0, 0, 0.3));\n",
              "      fill: #FFFFFF;\n",
              "    }\n",
              "  </style>\n",
              "\n",
              "    <script>\n",
              "      const buttonEl =\n",
              "        document.querySelector('#df-fae747e4-b8ee-49f2-82d3-c0550899997b button.colab-df-convert');\n",
              "      buttonEl.style.display =\n",
              "        google.colab.kernel.accessAllowed ? 'block' : 'none';\n",
              "\n",
              "      async function convertToInteractive(key) {\n",
              "        const element = document.querySelector('#df-fae747e4-b8ee-49f2-82d3-c0550899997b');\n",
              "        const dataTable =\n",
              "          await google.colab.kernel.invokeFunction('convertToInteractive',\n",
              "                                                    [key], {});\n",
              "        if (!dataTable) return;\n",
              "\n",
              "        const docLinkHtml = 'Like what you see? Visit the ' +\n",
              "          '<a target=\"_blank\" href=https://colab.research.google.com/notebooks/data_table.ipynb>data table notebook</a>'\n",
              "          + ' to learn more about interactive tables.';\n",
              "        element.innerHTML = '';\n",
              "        dataTable['output_type'] = 'display_data';\n",
              "        await google.colab.output.renderOutput(dataTable, element);\n",
              "        const docLink = document.createElement('div');\n",
              "        docLink.innerHTML = docLinkHtml;\n",
              "        element.appendChild(docLink);\n",
              "      }\n",
              "    </script>\n",
              "  </div>\n",
              "\n",
              "\n",
              "<div id=\"df-96b74132-d0aa-435c-8c9f-4ea8d4b82c96\">\n",
              "  <button class=\"colab-df-quickchart\" onclick=\"quickchart('df-96b74132-d0aa-435c-8c9f-4ea8d4b82c96')\"\n",
              "            title=\"Suggest charts\"\n",
              "            style=\"display:none;\">\n",
              "\n",
              "<svg xmlns=\"http://www.w3.org/2000/svg\" height=\"24px\"viewBox=\"0 0 24 24\"\n",
              "     width=\"24px\">\n",
              "    <g>\n",
              "        <path d=\"M19 3H5c-1.1 0-2 .9-2 2v14c0 1.1.9 2 2 2h14c1.1 0 2-.9 2-2V5c0-1.1-.9-2-2-2zM9 17H7v-7h2v7zm4 0h-2V7h2v10zm4 0h-2v-4h2v4z\"/>\n",
              "    </g>\n",
              "</svg>\n",
              "  </button>\n",
              "\n",
              "<style>\n",
              "  .colab-df-quickchart {\n",
              "      --bg-color: #E8F0FE;\n",
              "      --fill-color: #1967D2;\n",
              "      --hover-bg-color: #E2EBFA;\n",
              "      --hover-fill-color: #174EA6;\n",
              "      --disabled-fill-color: #AAA;\n",
              "      --disabled-bg-color: #DDD;\n",
              "  }\n",
              "\n",
              "  [theme=dark] .colab-df-quickchart {\n",
              "      --bg-color: #3B4455;\n",
              "      --fill-color: #D2E3FC;\n",
              "      --hover-bg-color: #434B5C;\n",
              "      --hover-fill-color: #FFFFFF;\n",
              "      --disabled-bg-color: #3B4455;\n",
              "      --disabled-fill-color: #666;\n",
              "  }\n",
              "\n",
              "  .colab-df-quickchart {\n",
              "    background-color: var(--bg-color);\n",
              "    border: none;\n",
              "    border-radius: 50%;\n",
              "    cursor: pointer;\n",
              "    display: none;\n",
              "    fill: var(--fill-color);\n",
              "    height: 32px;\n",
              "    padding: 0;\n",
              "    width: 32px;\n",
              "  }\n",
              "\n",
              "  .colab-df-quickchart:hover {\n",
              "    background-color: var(--hover-bg-color);\n",
              "    box-shadow: 0 1px 2px rgba(60, 64, 67, 0.3), 0 1px 3px 1px rgba(60, 64, 67, 0.15);\n",
              "    fill: var(--button-hover-fill-color);\n",
              "  }\n",
              "\n",
              "  .colab-df-quickchart-complete:disabled,\n",
              "  .colab-df-quickchart-complete:disabled:hover {\n",
              "    background-color: var(--disabled-bg-color);\n",
              "    fill: var(--disabled-fill-color);\n",
              "    box-shadow: none;\n",
              "  }\n",
              "\n",
              "  .colab-df-spinner {\n",
              "    border: 2px solid var(--fill-color);\n",
              "    border-color: transparent;\n",
              "    border-bottom-color: var(--fill-color);\n",
              "    animation:\n",
              "      spin 1s steps(1) infinite;\n",
              "  }\n",
              "\n",
              "  @keyframes spin {\n",
              "    0% {\n",
              "      border-color: transparent;\n",
              "      border-bottom-color: var(--fill-color);\n",
              "      border-left-color: var(--fill-color);\n",
              "    }\n",
              "    20% {\n",
              "      border-color: transparent;\n",
              "      border-left-color: var(--fill-color);\n",
              "      border-top-color: var(--fill-color);\n",
              "    }\n",
              "    30% {\n",
              "      border-color: transparent;\n",
              "      border-left-color: var(--fill-color);\n",
              "      border-top-color: var(--fill-color);\n",
              "      border-right-color: var(--fill-color);\n",
              "    }\n",
              "    40% {\n",
              "      border-color: transparent;\n",
              "      border-right-color: var(--fill-color);\n",
              "      border-top-color: var(--fill-color);\n",
              "    }\n",
              "    60% {\n",
              "      border-color: transparent;\n",
              "      border-right-color: var(--fill-color);\n",
              "    }\n",
              "    80% {\n",
              "      border-color: transparent;\n",
              "      border-right-color: var(--fill-color);\n",
              "      border-bottom-color: var(--fill-color);\n",
              "    }\n",
              "    90% {\n",
              "      border-color: transparent;\n",
              "      border-bottom-color: var(--fill-color);\n",
              "    }\n",
              "  }\n",
              "</style>\n",
              "\n",
              "  <script>\n",
              "    async function quickchart(key) {\n",
              "      const quickchartButtonEl =\n",
              "        document.querySelector('#' + key + ' button');\n",
              "      quickchartButtonEl.disabled = true;  // To prevent multiple clicks.\n",
              "      quickchartButtonEl.classList.add('colab-df-spinner');\n",
              "      try {\n",
              "        const charts = await google.colab.kernel.invokeFunction(\n",
              "            'suggestCharts', [key], {});\n",
              "      } catch (error) {\n",
              "        console.error('Error during call to suggestCharts:', error);\n",
              "      }\n",
              "      quickchartButtonEl.classList.remove('colab-df-spinner');\n",
              "      quickchartButtonEl.classList.add('colab-df-quickchart-complete');\n",
              "    }\n",
              "    (() => {\n",
              "      let quickchartButtonEl =\n",
              "        document.querySelector('#df-96b74132-d0aa-435c-8c9f-4ea8d4b82c96 button');\n",
              "      quickchartButtonEl.style.display =\n",
              "        google.colab.kernel.accessAllowed ? 'block' : 'none';\n",
              "    })();\n",
              "  </script>\n",
              "</div>\n",
              "\n",
              "    </div>\n",
              "  </div>\n"
            ],
            "application/vnd.google.colaboratory.intrinsic+json": {
              "type": "dataframe",
              "variable_name": "sdf"
            }
          },
          "metadata": {},
          "execution_count": 112
        }
      ]
    },
    {
      "cell_type": "code",
      "source": [
        "sum(sdf['Innings Runs Scored Num'])"
      ],
      "metadata": {
        "colab": {
          "base_uri": "https://localhost:8080/"
        },
        "id": "VGmptsf7M_om",
        "outputId": "6d8c60a6-3ae5-4692-bf1d-2057e94459cb"
      },
      "execution_count": null,
      "outputs": [
        {
          "output_type": "execute_result",
          "data": {
            "text/plain": [
              "11818"
            ]
          },
          "metadata": {},
          "execution_count": 116
        }
      ]
    },
    {
      "cell_type": "code",
      "source": [
        "vdf = virat_df[virat_df['Innings Player'] == 'V Kohli']"
      ],
      "metadata": {
        "id": "a1oe8qXjNZMt"
      },
      "execution_count": null,
      "outputs": []
    },
    {
      "cell_type": "code",
      "source": [
        "vdf.head(2)"
      ],
      "metadata": {
        "colab": {
          "base_uri": "https://localhost:8080/",
          "height": 213
        },
        "id": "0u-zIXgJOYzY",
        "outputId": "812b4948-e9b2-4e07-f347-870c056061df"
      },
      "execution_count": null,
      "outputs": [
        {
          "output_type": "execute_result",
          "data": {
            "text/plain": [
              "    Innings Player Innings Runs Scored  Innings Runs Scored Num  \\\n",
              "11         V Kohli                 120                      120   \n",
              "327        V Kohli                   1                        1   \n",
              "\n",
              "    Innings Minutes Batted  Innings Batted Flag  Innings Not Out Flag  \\\n",
              "11                     179                  1.0                     0   \n",
              "327                      8                  1.0                     0   \n",
              "\n",
              "     Innings Balls Faced Innings Boundary Fours Innings Boundary Sixes  \\\n",
              "11                   125                     14                      1   \n",
              "327                    6                      0                      0   \n",
              "\n",
              "    Innings Batting Strike Rate  ... Innings Bowled Flag  \\\n",
              "11                           96  ...                 NaN   \n",
              "327                       16.66  ...                 NaN   \n",
              "\n",
              "    Innings Maidens Bowled Innings Runs Conceded Innings Wickets Taken  \\\n",
              "11                     NaN                   NaN                   NaN   \n",
              "327                    NaN                   NaN                   NaN   \n",
              "\n",
              "    4 Wickets  5 Wickets  10 Wickets Innings Wickets Taken Buckets  \\\n",
              "11        NaN        NaN         NaN                           NaN   \n",
              "327       NaN        NaN         NaN                           NaN   \n",
              "\n",
              "    Innings Economy Rate  year  \n",
              "11                   NaN  2019  \n",
              "327                  NaN  2019  \n",
              "\n",
              "[2 rows x 29 columns]"
            ],
            "text/html": [
              "\n",
              "  <div id=\"df-9f5d62b6-e6ca-437f-8ebd-5e6cbd060010\" class=\"colab-df-container\">\n",
              "    <div>\n",
              "<style scoped>\n",
              "    .dataframe tbody tr th:only-of-type {\n",
              "        vertical-align: middle;\n",
              "    }\n",
              "\n",
              "    .dataframe tbody tr th {\n",
              "        vertical-align: top;\n",
              "    }\n",
              "\n",
              "    .dataframe thead th {\n",
              "        text-align: right;\n",
              "    }\n",
              "</style>\n",
              "<table border=\"1\" class=\"dataframe\">\n",
              "  <thead>\n",
              "    <tr style=\"text-align: right;\">\n",
              "      <th></th>\n",
              "      <th>Innings Player</th>\n",
              "      <th>Innings Runs Scored</th>\n",
              "      <th>Innings Runs Scored Num</th>\n",
              "      <th>Innings Minutes Batted</th>\n",
              "      <th>Innings Batted Flag</th>\n",
              "      <th>Innings Not Out Flag</th>\n",
              "      <th>Innings Balls Faced</th>\n",
              "      <th>Innings Boundary Fours</th>\n",
              "      <th>Innings Boundary Sixes</th>\n",
              "      <th>Innings Batting Strike Rate</th>\n",
              "      <th>...</th>\n",
              "      <th>Innings Bowled Flag</th>\n",
              "      <th>Innings Maidens Bowled</th>\n",
              "      <th>Innings Runs Conceded</th>\n",
              "      <th>Innings Wickets Taken</th>\n",
              "      <th>4 Wickets</th>\n",
              "      <th>5 Wickets</th>\n",
              "      <th>10 Wickets</th>\n",
              "      <th>Innings Wickets Taken Buckets</th>\n",
              "      <th>Innings Economy Rate</th>\n",
              "      <th>year</th>\n",
              "    </tr>\n",
              "  </thead>\n",
              "  <tbody>\n",
              "    <tr>\n",
              "      <th>11</th>\n",
              "      <td>V Kohli</td>\n",
              "      <td>120</td>\n",
              "      <td>120</td>\n",
              "      <td>179</td>\n",
              "      <td>1.0</td>\n",
              "      <td>0</td>\n",
              "      <td>125</td>\n",
              "      <td>14</td>\n",
              "      <td>1</td>\n",
              "      <td>96</td>\n",
              "      <td>...</td>\n",
              "      <td>NaN</td>\n",
              "      <td>NaN</td>\n",
              "      <td>NaN</td>\n",
              "      <td>NaN</td>\n",
              "      <td>NaN</td>\n",
              "      <td>NaN</td>\n",
              "      <td>NaN</td>\n",
              "      <td>NaN</td>\n",
              "      <td>NaN</td>\n",
              "      <td>2019</td>\n",
              "    </tr>\n",
              "    <tr>\n",
              "      <th>327</th>\n",
              "      <td>V Kohli</td>\n",
              "      <td>1</td>\n",
              "      <td>1</td>\n",
              "      <td>8</td>\n",
              "      <td>1.0</td>\n",
              "      <td>0</td>\n",
              "      <td>6</td>\n",
              "      <td>0</td>\n",
              "      <td>0</td>\n",
              "      <td>16.66</td>\n",
              "      <td>...</td>\n",
              "      <td>NaN</td>\n",
              "      <td>NaN</td>\n",
              "      <td>NaN</td>\n",
              "      <td>NaN</td>\n",
              "      <td>NaN</td>\n",
              "      <td>NaN</td>\n",
              "      <td>NaN</td>\n",
              "      <td>NaN</td>\n",
              "      <td>NaN</td>\n",
              "      <td>2019</td>\n",
              "    </tr>\n",
              "  </tbody>\n",
              "</table>\n",
              "<p>2 rows × 29 columns</p>\n",
              "</div>\n",
              "    <div class=\"colab-df-buttons\">\n",
              "\n",
              "  <div class=\"colab-df-container\">\n",
              "    <button class=\"colab-df-convert\" onclick=\"convertToInteractive('df-9f5d62b6-e6ca-437f-8ebd-5e6cbd060010')\"\n",
              "            title=\"Convert this dataframe to an interactive table.\"\n",
              "            style=\"display:none;\">\n",
              "\n",
              "  <svg xmlns=\"http://www.w3.org/2000/svg\" height=\"24px\" viewBox=\"0 -960 960 960\">\n",
              "    <path d=\"M120-120v-720h720v720H120Zm60-500h600v-160H180v160Zm220 220h160v-160H400v160Zm0 220h160v-160H400v160ZM180-400h160v-160H180v160Zm440 0h160v-160H620v160ZM180-180h160v-160H180v160Zm440 0h160v-160H620v160Z\"/>\n",
              "  </svg>\n",
              "    </button>\n",
              "\n",
              "  <style>\n",
              "    .colab-df-container {\n",
              "      display:flex;\n",
              "      gap: 12px;\n",
              "    }\n",
              "\n",
              "    .colab-df-convert {\n",
              "      background-color: #E8F0FE;\n",
              "      border: none;\n",
              "      border-radius: 50%;\n",
              "      cursor: pointer;\n",
              "      display: none;\n",
              "      fill: #1967D2;\n",
              "      height: 32px;\n",
              "      padding: 0 0 0 0;\n",
              "      width: 32px;\n",
              "    }\n",
              "\n",
              "    .colab-df-convert:hover {\n",
              "      background-color: #E2EBFA;\n",
              "      box-shadow: 0px 1px 2px rgba(60, 64, 67, 0.3), 0px 1px 3px 1px rgba(60, 64, 67, 0.15);\n",
              "      fill: #174EA6;\n",
              "    }\n",
              "\n",
              "    .colab-df-buttons div {\n",
              "      margin-bottom: 4px;\n",
              "    }\n",
              "\n",
              "    [theme=dark] .colab-df-convert {\n",
              "      background-color: #3B4455;\n",
              "      fill: #D2E3FC;\n",
              "    }\n",
              "\n",
              "    [theme=dark] .colab-df-convert:hover {\n",
              "      background-color: #434B5C;\n",
              "      box-shadow: 0px 1px 3px 1px rgba(0, 0, 0, 0.15);\n",
              "      filter: drop-shadow(0px 1px 2px rgba(0, 0, 0, 0.3));\n",
              "      fill: #FFFFFF;\n",
              "    }\n",
              "  </style>\n",
              "\n",
              "    <script>\n",
              "      const buttonEl =\n",
              "        document.querySelector('#df-9f5d62b6-e6ca-437f-8ebd-5e6cbd060010 button.colab-df-convert');\n",
              "      buttonEl.style.display =\n",
              "        google.colab.kernel.accessAllowed ? 'block' : 'none';\n",
              "\n",
              "      async function convertToInteractive(key) {\n",
              "        const element = document.querySelector('#df-9f5d62b6-e6ca-437f-8ebd-5e6cbd060010');\n",
              "        const dataTable =\n",
              "          await google.colab.kernel.invokeFunction('convertToInteractive',\n",
              "                                                    [key], {});\n",
              "        if (!dataTable) return;\n",
              "\n",
              "        const docLinkHtml = 'Like what you see? Visit the ' +\n",
              "          '<a target=\"_blank\" href=https://colab.research.google.com/notebooks/data_table.ipynb>data table notebook</a>'\n",
              "          + ' to learn more about interactive tables.';\n",
              "        element.innerHTML = '';\n",
              "        dataTable['output_type'] = 'display_data';\n",
              "        await google.colab.output.renderOutput(dataTable, element);\n",
              "        const docLink = document.createElement('div');\n",
              "        docLink.innerHTML = docLinkHtml;\n",
              "        element.appendChild(docLink);\n",
              "      }\n",
              "    </script>\n",
              "  </div>\n",
              "\n",
              "\n",
              "<div id=\"df-0f3f7df7-5251-4237-a065-e4b5c6cc2026\">\n",
              "  <button class=\"colab-df-quickchart\" onclick=\"quickchart('df-0f3f7df7-5251-4237-a065-e4b5c6cc2026')\"\n",
              "            title=\"Suggest charts\"\n",
              "            style=\"display:none;\">\n",
              "\n",
              "<svg xmlns=\"http://www.w3.org/2000/svg\" height=\"24px\"viewBox=\"0 0 24 24\"\n",
              "     width=\"24px\">\n",
              "    <g>\n",
              "        <path d=\"M19 3H5c-1.1 0-2 .9-2 2v14c0 1.1.9 2 2 2h14c1.1 0 2-.9 2-2V5c0-1.1-.9-2-2-2zM9 17H7v-7h2v7zm4 0h-2V7h2v10zm4 0h-2v-4h2v4z\"/>\n",
              "    </g>\n",
              "</svg>\n",
              "  </button>\n",
              "\n",
              "<style>\n",
              "  .colab-df-quickchart {\n",
              "      --bg-color: #E8F0FE;\n",
              "      --fill-color: #1967D2;\n",
              "      --hover-bg-color: #E2EBFA;\n",
              "      --hover-fill-color: #174EA6;\n",
              "      --disabled-fill-color: #AAA;\n",
              "      --disabled-bg-color: #DDD;\n",
              "  }\n",
              "\n",
              "  [theme=dark] .colab-df-quickchart {\n",
              "      --bg-color: #3B4455;\n",
              "      --fill-color: #D2E3FC;\n",
              "      --hover-bg-color: #434B5C;\n",
              "      --hover-fill-color: #FFFFFF;\n",
              "      --disabled-bg-color: #3B4455;\n",
              "      --disabled-fill-color: #666;\n",
              "  }\n",
              "\n",
              "  .colab-df-quickchart {\n",
              "    background-color: var(--bg-color);\n",
              "    border: none;\n",
              "    border-radius: 50%;\n",
              "    cursor: pointer;\n",
              "    display: none;\n",
              "    fill: var(--fill-color);\n",
              "    height: 32px;\n",
              "    padding: 0;\n",
              "    width: 32px;\n",
              "  }\n",
              "\n",
              "  .colab-df-quickchart:hover {\n",
              "    background-color: var(--hover-bg-color);\n",
              "    box-shadow: 0 1px 2px rgba(60, 64, 67, 0.3), 0 1px 3px 1px rgba(60, 64, 67, 0.15);\n",
              "    fill: var(--button-hover-fill-color);\n",
              "  }\n",
              "\n",
              "  .colab-df-quickchart-complete:disabled,\n",
              "  .colab-df-quickchart-complete:disabled:hover {\n",
              "    background-color: var(--disabled-bg-color);\n",
              "    fill: var(--disabled-fill-color);\n",
              "    box-shadow: none;\n",
              "  }\n",
              "\n",
              "  .colab-df-spinner {\n",
              "    border: 2px solid var(--fill-color);\n",
              "    border-color: transparent;\n",
              "    border-bottom-color: var(--fill-color);\n",
              "    animation:\n",
              "      spin 1s steps(1) infinite;\n",
              "  }\n",
              "\n",
              "  @keyframes spin {\n",
              "    0% {\n",
              "      border-color: transparent;\n",
              "      border-bottom-color: var(--fill-color);\n",
              "      border-left-color: var(--fill-color);\n",
              "    }\n",
              "    20% {\n",
              "      border-color: transparent;\n",
              "      border-left-color: var(--fill-color);\n",
              "      border-top-color: var(--fill-color);\n",
              "    }\n",
              "    30% {\n",
              "      border-color: transparent;\n",
              "      border-left-color: var(--fill-color);\n",
              "      border-top-color: var(--fill-color);\n",
              "      border-right-color: var(--fill-color);\n",
              "    }\n",
              "    40% {\n",
              "      border-color: transparent;\n",
              "      border-right-color: var(--fill-color);\n",
              "      border-top-color: var(--fill-color);\n",
              "    }\n",
              "    60% {\n",
              "      border-color: transparent;\n",
              "      border-right-color: var(--fill-color);\n",
              "    }\n",
              "    80% {\n",
              "      border-color: transparent;\n",
              "      border-right-color: var(--fill-color);\n",
              "      border-bottom-color: var(--fill-color);\n",
              "    }\n",
              "    90% {\n",
              "      border-color: transparent;\n",
              "      border-bottom-color: var(--fill-color);\n",
              "    }\n",
              "  }\n",
              "</style>\n",
              "\n",
              "  <script>\n",
              "    async function quickchart(key) {\n",
              "      const quickchartButtonEl =\n",
              "        document.querySelector('#' + key + ' button');\n",
              "      quickchartButtonEl.disabled = true;  // To prevent multiple clicks.\n",
              "      quickchartButtonEl.classList.add('colab-df-spinner');\n",
              "      try {\n",
              "        const charts = await google.colab.kernel.invokeFunction(\n",
              "            'suggestCharts', [key], {});\n",
              "      } catch (error) {\n",
              "        console.error('Error during call to suggestCharts:', error);\n",
              "      }\n",
              "      quickchartButtonEl.classList.remove('colab-df-spinner');\n",
              "      quickchartButtonEl.classList.add('colab-df-quickchart-complete');\n",
              "    }\n",
              "    (() => {\n",
              "      let quickchartButtonEl =\n",
              "        document.querySelector('#df-0f3f7df7-5251-4237-a065-e4b5c6cc2026 button');\n",
              "      quickchartButtonEl.style.display =\n",
              "        google.colab.kernel.accessAllowed ? 'block' : 'none';\n",
              "    })();\n",
              "  </script>\n",
              "</div>\n",
              "\n",
              "    </div>\n",
              "  </div>\n"
            ],
            "application/vnd.google.colaboratory.intrinsic+json": {
              "type": "dataframe",
              "variable_name": "vdf"
            }
          },
          "metadata": {},
          "execution_count": 122
        }
      ]
    },
    {
      "cell_type": "code",
      "source": [
        "sum(vdf['Innings Runs Scored Num'])"
      ],
      "metadata": {
        "colab": {
          "base_uri": "https://localhost:8080/"
        },
        "id": "NvHXG9WuOatv",
        "outputId": "d79c397f-34f6-4623-ff53-087873a4ba26"
      },
      "execution_count": null,
      "outputs": [
        {
          "output_type": "execute_result",
          "data": {
            "text/plain": [
              "11247"
            ]
          },
          "metadata": {},
          "execution_count": 124
        }
      ]
    },
    {
      "cell_type": "code",
      "source": [
        "\n",
        "sdf.shape\n",
        "\n"
      ],
      "metadata": {
        "colab": {
          "base_uri": "https://localhost:8080/"
        },
        "id": "3YUYbAXaOvKF",
        "outputId": "5989d0b2-9647-4068-c0db-de5ba0bdbd25"
      },
      "execution_count": null,
      "outputs": [
        {
          "output_type": "execute_result",
          "data": {
            "text/plain": [
              "(271, 29)"
            ]
          },
          "metadata": {},
          "execution_count": 127
        }
      ]
    },
    {
      "cell_type": "code",
      "source": [
        "vdf.shape"
      ],
      "metadata": {
        "colab": {
          "base_uri": "https://localhost:8080/"
        },
        "id": "E1s5lKUvPizA",
        "outputId": "dc215f11-5ef9-4709-a561-96b97b400c87"
      },
      "execution_count": null,
      "outputs": [
        {
          "output_type": "execute_result",
          "data": {
            "text/plain": [
              "(224, 29)"
            ]
          },
          "metadata": {},
          "execution_count": 128
        }
      ]
    },
    {
      "cell_type": "code",
      "source": [
        "(sum(sdf['Innings Runs Scored Num'])/len(sdf)),(sum(vdf['Innings Runs Scored Num'])/len(vdf))"
      ],
      "metadata": {
        "colab": {
          "base_uri": "https://localhost:8080/"
        },
        "id": "TFOVjSH0hI_A",
        "outputId": "4cc51dfb-e47e-4d76-8801-d0631f7c1f79"
      },
      "execution_count": null,
      "outputs": [
        {
          "output_type": "execute_result",
          "data": {
            "text/plain": [
              "(43.608856088560884, 50.20982142857143)"
            ]
          },
          "metadata": {},
          "execution_count": 172
        }
      ]
    },
    {
      "cell_type": "code",
      "source": [
        "#RPI OF SACHIN AND VIRAT\n",
        "\n",
        "print(f'RPI OF SACHIN IS {11818/271}')\n",
        "print(f'RPI OF VIRAT IS {11247/224}')"
      ],
      "metadata": {
        "colab": {
          "base_uri": "https://localhost:8080/"
        },
        "id": "iP2Dr0QFSF9b",
        "outputId": "b19fb952-5f45-41e6-bfd4-5c8aa10b981d"
      },
      "execution_count": null,
      "outputs": [
        {
          "output_type": "stream",
          "name": "stdout",
          "text": [
            "RPI OF SACHIN IS 43.608856088560884\n",
            "RPI OF VIRAT IS 50.20982142857143\n"
          ]
        }
      ]
    },
    {
      "cell_type": "code",
      "source": [
        "sum(sdf['Innings Balls Faced']),sum(vdf['Innings Balls Faced'])"
      ],
      "metadata": {
        "colab": {
          "base_uri": "https://localhost:8080/"
        },
        "id": "9u27w3T4QJhL",
        "outputId": "aea20a90-ed85-4084-c54d-96707d22205f"
      },
      "execution_count": null,
      "outputs": [
        {
          "output_type": "execute_result",
          "data": {
            "text/plain": [
              "(13397, 12021)"
            ]
          },
          "metadata": {},
          "execution_count": 133
        }
      ]
    },
    {
      "cell_type": "code",
      "source": [
        "#SR OF SACHIN AND VIRAT\n",
        "\n",
        "print(f'SR OF SACHIN IS {100*(11818/13397)}')\n",
        "print(f'SR OF VIRAT IS {100*(11247/12021)}')\n"
      ],
      "metadata": {
        "colab": {
          "base_uri": "https://localhost:8080/"
        },
        "id": "hi7cuAKuQvhW",
        "outputId": "923f1fa9-e66d-416b-b17a-c5066951c267"
      },
      "execution_count": null,
      "outputs": [
        {
          "output_type": "stream",
          "name": "stdout",
          "text": [
            "SR OF SACHIN IS 88.21377920429947\n",
            "SR OF VIRAT IS 93.56126778138258\n"
          ]
        }
      ]
    },
    {
      "cell_type": "code",
      "source": [
        "#100's and 50's BY SACHIN\n",
        "sum(sdf[\"100's\"]),sum(sdf[\"50's\"])\n"
      ],
      "metadata": {
        "colab": {
          "base_uri": "https://localhost:8080/"
        },
        "id": "v8QyaAqQRrLJ",
        "outputId": "001459c6-130a-4102-c860-79b758855c1a"
      },
      "execution_count": null,
      "outputs": [
        {
          "output_type": "execute_result",
          "data": {
            "text/plain": [
              "(37.0, 57.0)"
            ]
          },
          "metadata": {},
          "execution_count": 142
        }
      ]
    },
    {
      "cell_type": "code",
      "source": [
        "#100's and 50's BY VIRAT\n",
        "sum(vdf[\"100's\"]),sum(vdf[\"50's\"])"
      ],
      "metadata": {
        "colab": {
          "base_uri": "https://localhost:8080/"
        },
        "id": "SWM2-NqAVReW",
        "outputId": "523416f1-e65c-4652-d8e6-e30aeee5023a"
      },
      "execution_count": null,
      "outputs": [
        {
          "output_type": "execute_result",
          "data": {
            "text/plain": [
              "(42.0, 53.0)"
            ]
          },
          "metadata": {},
          "execution_count": 143
        }
      ]
    },
    {
      "cell_type": "code",
      "source": [
        "#Team contribution\n"
      ],
      "metadata": {
        "id": "vDmI9HEuWJ1S"
      },
      "execution_count": null,
      "outputs": []
    },
    {
      "cell_type": "code",
      "source": [
        "sind = sachin_df[sachin_df['Country'] == 'India']"
      ],
      "metadata": {
        "id": "3tSnDHnNXAtE"
      },
      "execution_count": null,
      "outputs": []
    },
    {
      "cell_type": "code",
      "source": [
        "#Total Runs made by Indian Team(ODI):- 1994-2004(All Players)\n",
        "sum(sind['Innings Runs Scored Num'])"
      ],
      "metadata": {
        "colab": {
          "base_uri": "https://localhost:8080/"
        },
        "id": "lc_n9pDBXDtA",
        "outputId": "0fed0b18-179b-457f-d61a-ed1897eba1c8"
      },
      "execution_count": null,
      "outputs": [
        {
          "output_type": "execute_result",
          "data": {
            "text/plain": [
              "69715"
            ]
          },
          "metadata": {},
          "execution_count": 148
        }
      ]
    },
    {
      "cell_type": "code",
      "source": [
        "vind = virat_df[virat_df['Country'] == 'India']"
      ],
      "metadata": {
        "id": "JeWp4FkXXiqn"
      },
      "execution_count": null,
      "outputs": []
    },
    {
      "cell_type": "code",
      "source": [
        "#Total Runs made by Indian Team(ODI):- 2009-2019(All Players)\n",
        "sum(vind['Innings Runs Scored Num'])"
      ],
      "metadata": {
        "colab": {
          "base_uri": "https://localhost:8080/"
        },
        "id": "8Rk7bL5CYEJ-",
        "outputId": "e08b9ffa-8229-4841-bb59-b2b5eefbcf01"
      },
      "execution_count": null,
      "outputs": [
        {
          "output_type": "execute_result",
          "data": {
            "text/plain": [
              "63867"
            ]
          },
          "metadata": {},
          "execution_count": 150
        }
      ]
    },
    {
      "cell_type": "code",
      "source": [
        "#team contribution(sachin)\n",
        "print(f'sachin contribution = {100*(11818/69715)}')\n",
        "print(f'virat contribution = {100*(11247/63867)}')"
      ],
      "metadata": {
        "colab": {
          "base_uri": "https://localhost:8080/"
        },
        "id": "XrBnmxe9YI6m",
        "outputId": "83aca982-eb4a-4079-b72a-059441b9f7da"
      },
      "execution_count": null,
      "outputs": [
        {
          "output_type": "stream",
          "name": "stdout",
          "text": [
            "sachin contribution = 16.951875493078962\n",
            "virat contribution = 17.610033350556627\n"
          ]
        }
      ]
    },
    {
      "cell_type": "code",
      "source": [
        "#VISUALIZATIONS\n"
      ],
      "metadata": {
        "id": "qWHK7J_7ZOBZ"
      },
      "execution_count": null,
      "outputs": []
    },
    {
      "cell_type": "code",
      "source": [
        "sachin_df.groupby(['Innings Player'])['Innings Runs Scored Num'].sum().sort_values(ascending = False).head(10)"
      ],
      "metadata": {
        "colab": {
          "base_uri": "https://localhost:8080/"
        },
        "id": "VW2Tn_pda2SO",
        "outputId": "df4a22e3-9e60-4027-aeef-0cd367566b9c"
      },
      "execution_count": null,
      "outputs": [
        {
          "output_type": "execute_result",
          "data": {
            "text/plain": [
              "Innings Player\n",
              "SR Tendulkar      11818\n",
              "SC Ganguly         9911\n",
              "ST Jayasuriya      9297\n",
              "Inzamam-ul-Haq     8561\n",
              "R Dravid           7751\n",
              "RT Ponting         7422\n",
              "Saeed Anwar        7320\n",
              "JH Kallis          7267\n",
              "MS Atapattu        7253\n",
              "MG Bevan           6912\n",
              "Name: Innings Runs Scored Num, dtype: int64"
            ]
          },
          "metadata": {},
          "execution_count": 156
        }
      ]
    },
    {
      "cell_type": "code",
      "source": [
        "import matplotlib.pyplot as plt\n"
      ],
      "metadata": {
        "id": "73ojP9dyb2Jr"
      },
      "execution_count": null,
      "outputs": []
    },
    {
      "cell_type": "code",
      "source": [
        "sachin_df.groupby(['Innings Player'])['Innings Runs Scored Num'].sum().sort_values(ascending = False).head(10).plot(kind = 'barh')\n",
        "plt.show()"
      ],
      "metadata": {
        "colab": {
          "base_uri": "https://localhost:8080/",
          "height": 430
        },
        "id": "paGYabEZa61W",
        "outputId": "667c978c-81ff-4168-d772-ef9265d45e9b"
      },
      "execution_count": null,
      "outputs": [
        {
          "output_type": "display_data",
          "data": {
            "text/plain": [
              "<Figure size 640x480 with 1 Axes>"
            ],
            "image/png": "[encoded data removed]"
          },
          "metadata": {}
        }
      ]
    },
    {
      "cell_type": "code",
      "source": [
        "virat_df.groupby(['Innings Player'])['Innings Runs Scored Num'].sum().sort_values(ascending = False).head(10)"
      ],
      "metadata": {
        "colab": {
          "base_uri": "https://localhost:8080/"
        },
        "id": "m2S2hR0qbiDg",
        "outputId": "a10fc980-ea62-4270-c051-2bd236db275b"
      },
      "execution_count": null,
      "outputs": [
        {
          "output_type": "execute_result",
          "data": {
            "text/plain": [
              "Innings Player\n",
              "V Kohli           11247\n",
              "RG Sharma          8083\n",
              "HM Amla            7745\n",
              "TM Dilshan         7296\n",
              "KC Sangakkara      7275\n",
              "AB de Villiers     7247\n",
              "LRPL Taylor        7059\n",
              "MS Dhoni           6838\n",
              "EJG Morgan         6748\n",
              "MJ Guptill         6626\n",
              "Name: Innings Runs Scored Num, dtype: int64"
            ]
          },
          "metadata": {},
          "execution_count": 161
        }
      ]
    },
    {
      "cell_type": "code",
      "source": [
        "virat_df.groupby(['Innings Player'])['Innings Runs Scored Num'].sum().sort_values(ascending = False).head(10).plot(kind = 'barh')\n",
        "plt.show()"
      ],
      "metadata": {
        "colab": {
          "base_uri": "https://localhost:8080/",
          "height": 430
        },
        "id": "1JbC2wbXcOHP",
        "outputId": "e19f4b7c-4a55-4309-c3ae-4e943d20fd92"
      },
      "execution_count": null,
      "outputs": [
        {
          "output_type": "display_data",
          "data": {
            "text/plain": [
              "<Figure size 640x480 with 1 Axes>"
            ],
            "image/png": "[encoded data removed]"
          },
          "metadata": {}
        }
      ]
    },
    {
      "cell_type": "code",
      "source": [
        "sdf.head(1)"
      ],
      "metadata": {
        "colab": {
          "base_uri": "https://localhost:8080/",
          "height": 199
        },
        "id": "EKDpbDOrcaXX",
        "outputId": "0041eaae-1f93-41b9-de3d-43af5e97a377"
      },
      "execution_count": null,
      "outputs": [
        {
          "output_type": "execute_result",
          "data": {
            "text/plain": [
              "      Innings Player Innings Runs Scored  Innings Runs Scored Num  \\\n",
              "77614   SR Tendulkar                  47                       47   \n",
              "\n",
              "      Innings Minutes Batted  Innings Batted Flag  Innings Not Out Flag  \\\n",
              "77614                     60                  1.0                     0   \n",
              "\n",
              "       Innings Balls Faced Innings Boundary Fours Innings Boundary Sixes  \\\n",
              "77614                   42                      9                      0   \n",
              "\n",
              "      Innings Batting Strike Rate  ... Innings Bowled Flag  \\\n",
              "77614                       111.9  ...                 NaN   \n",
              "\n",
              "      Innings Maidens Bowled Innings Runs Conceded Innings Wickets Taken  \\\n",
              "77614                    NaN                   NaN                   NaN   \n",
              "\n",
              "      4 Wickets  5 Wickets  10 Wickets Innings Wickets Taken Buckets  \\\n",
              "77614       NaN        NaN         NaN                           NaN   \n",
              "\n",
              "      Innings Economy Rate  year  \n",
              "77614                  NaN  2004  \n",
              "\n",
              "[1 rows x 29 columns]"
            ],
            "text/html": [
              "\n",
              "  <div id=\"df-2b222ede-9bdd-4889-9197-4fae2b443f97\" class=\"colab-df-container\">\n",
              "    <div>\n",
              "<style scoped>\n",
              "    .dataframe tbody tr th:only-of-type {\n",
              "        vertical-align: middle;\n",
              "    }\n",
              "\n",
              "    .dataframe tbody tr th {\n",
              "        vertical-align: top;\n",
              "    }\n",
              "\n",
              "    .dataframe thead th {\n",
              "        text-align: right;\n",
              "    }\n",
              "</style>\n",
              "<table border=\"1\" class=\"dataframe\">\n",
              "  <thead>\n",
              "    <tr style=\"text-align: right;\">\n",
              "      <th></th>\n",
              "      <th>Innings Player</th>\n",
              "      <th>Innings Runs Scored</th>\n",
              "      <th>Innings Runs Scored Num</th>\n",
              "      <th>Innings Minutes Batted</th>\n",
              "      <th>Innings Batted Flag</th>\n",
              "      <th>Innings Not Out Flag</th>\n",
              "      <th>Innings Balls Faced</th>\n",
              "      <th>Innings Boundary Fours</th>\n",
              "      <th>Innings Boundary Sixes</th>\n",
              "      <th>Innings Batting Strike Rate</th>\n",
              "      <th>...</th>\n",
              "      <th>Innings Bowled Flag</th>\n",
              "      <th>Innings Maidens Bowled</th>\n",
              "      <th>Innings Runs Conceded</th>\n",
              "      <th>Innings Wickets Taken</th>\n",
              "      <th>4 Wickets</th>\n",
              "      <th>5 Wickets</th>\n",
              "      <th>10 Wickets</th>\n",
              "      <th>Innings Wickets Taken Buckets</th>\n",
              "      <th>Innings Economy Rate</th>\n",
              "      <th>year</th>\n",
              "    </tr>\n",
              "  </thead>\n",
              "  <tbody>\n",
              "    <tr>\n",
              "      <th>77614</th>\n",
              "      <td>SR Tendulkar</td>\n",
              "      <td>47</td>\n",
              "      <td>47</td>\n",
              "      <td>60</td>\n",
              "      <td>1.0</td>\n",
              "      <td>0</td>\n",
              "      <td>42</td>\n",
              "      <td>9</td>\n",
              "      <td>0</td>\n",
              "      <td>111.9</td>\n",
              "      <td>...</td>\n",
              "      <td>NaN</td>\n",
              "      <td>NaN</td>\n",
              "      <td>NaN</td>\n",
              "      <td>NaN</td>\n",
              "      <td>NaN</td>\n",
              "      <td>NaN</td>\n",
              "      <td>NaN</td>\n",
              "      <td>NaN</td>\n",
              "      <td>NaN</td>\n",
              "      <td>2004</td>\n",
              "    </tr>\n",
              "  </tbody>\n",
              "</table>\n",
              "<p>1 rows × 29 columns</p>\n",
              "</div>\n",
              "    <div class=\"colab-df-buttons\">\n",
              "\n",
              "  <div class=\"colab-df-container\">\n",
              "    <button class=\"colab-df-convert\" onclick=\"convertToInteractive('df-2b222ede-9bdd-4889-9197-4fae2b443f97')\"\n",
              "            title=\"Convert this dataframe to an interactive table.\"\n",
              "            style=\"display:none;\">\n",
              "\n",
              "  <svg xmlns=\"http://www.w3.org/2000/svg\" height=\"24px\" viewBox=\"0 -960 960 960\">\n",
              "    <path d=\"M120-120v-720h720v720H120Zm60-500h600v-160H180v160Zm220 220h160v-160H400v160Zm0 220h160v-160H400v160ZM180-400h160v-160H180v160Zm440 0h160v-160H620v160ZM180-180h160v-160H180v160Zm440 0h160v-160H620v160Z\"/>\n",
              "  </svg>\n",
              "    </button>\n",
              "\n",
              "  <style>\n",
              "    .colab-df-container {\n",
              "      display:flex;\n",
              "      gap: 12px;\n",
              "    }\n",
              "\n",
              "    .colab-df-convert {\n",
              "      background-color: #E8F0FE;\n",
              "      border: none;\n",
              "      border-radius: 50%;\n",
              "      cursor: pointer;\n",
              "      display: none;\n",
              "      fill: #1967D2;\n",
              "      height: 32px;\n",
              "      padding: 0 0 0 0;\n",
              "      width: 32px;\n",
              "    }\n",
              "\n",
              "    .colab-df-convert:hover {\n",
              "      background-color: #E2EBFA;\n",
              "      box-shadow: 0px 1px 2px rgba(60, 64, 67, 0.3), 0px 1px 3px 1px rgba(60, 64, 67, 0.15);\n",
              "      fill: #174EA6;\n",
              "    }\n",
              "\n",
              "    .colab-df-buttons div {\n",
              "      margin-bottom: 4px;\n",
              "    }\n",
              "\n",
              "    [theme=dark] .colab-df-convert {\n",
              "      background-color: #3B4455;\n",
              "      fill: #D2E3FC;\n",
              "    }\n",
              "\n",
              "    [theme=dark] .colab-df-convert:hover {\n",
              "      background-color: #434B5C;\n",
              "      box-shadow: 0px 1px 3px 1px rgba(0, 0, 0, 0.15);\n",
              "      filter: drop-shadow(0px 1px 2px rgba(0, 0, 0, 0.3));\n",
              "      fill: #FFFFFF;\n",
              "    }\n",
              "  </style>\n",
              "\n",
              "    <script>\n",
              "      const buttonEl =\n",
              "        document.querySelector('#df-2b222ede-9bdd-4889-9197-4fae2b443f97 button.colab-df-convert');\n",
              "      buttonEl.style.display =\n",
              "        google.colab.kernel.accessAllowed ? 'block' : 'none';\n",
              "\n",
              "      async function convertToInteractive(key) {\n",
              "        const element = document.querySelector('#df-2b222ede-9bdd-4889-9197-4fae2b443f97');\n",
              "        const dataTable =\n",
              "          await google.colab.kernel.invokeFunction('convertToInteractive',\n",
              "                                                    [key], {});\n",
              "        if (!dataTable) return;\n",
              "\n",
              "        const docLinkHtml = 'Like what you see? Visit the ' +\n",
              "          '<a target=\"_blank\" href=https://colab.research.google.com/notebooks/data_table.ipynb>data table notebook</a>'\n",
              "          + ' to learn more about interactive tables.';\n",
              "        element.innerHTML = '';\n",
              "        dataTable['output_type'] = 'display_data';\n",
              "        await google.colab.output.renderOutput(dataTable, element);\n",
              "        const docLink = document.createElement('div');\n",
              "        docLink.innerHTML = docLinkHtml;\n",
              "        element.appendChild(docLink);\n",
              "      }\n",
              "    </script>\n",
              "  </div>\n",
              "\n",
              "\n",
              "    </div>\n",
              "  </div>\n"
            ],
            "application/vnd.google.colaboratory.intrinsic+json": {
              "type": "dataframe",
              "variable_name": "sdf"
            }
          },
          "metadata": {},
          "execution_count": 163
        }
      ]
    },
    {
      "cell_type": "code",
      "source": [
        "sdf.groupby(['year'])['Innings Runs Scored Num'].sum()"
      ],
      "metadata": {
        "colab": {
          "base_uri": "https://localhost:8080/"
        },
        "id": "CWdHANYtctzl",
        "outputId": "ed2a864c-2e78-400a-9f5d-4217203b36e3"
      },
      "execution_count": null,
      "outputs": [
        {
          "output_type": "execute_result",
          "data": {
            "text/plain": [
              "year\n",
              "1994    1089\n",
              "1995     444\n",
              "1996    1611\n",
              "1997    1011\n",
              "1998    1894\n",
              "1999     843\n",
              "2000    1328\n",
              "2001     904\n",
              "2002     741\n",
              "2003    1141\n",
              "2004     812\n",
              "Name: Innings Runs Scored Num, dtype: int64"
            ]
          },
          "metadata": {},
          "execution_count": 164
        }
      ]
    },
    {
      "cell_type": "code",
      "source": [
        "sdf.groupby(['year'])['Innings Runs Scored Num'].sum().plot(kind = 'bar')\n",
        "plt.show()"
      ],
      "metadata": {
        "colab": {
          "base_uri": "https://localhost:8080/",
          "height": 471
        },
        "id": "EbENbhPnc8SU",
        "outputId": "d44de6e8-9ef6-4f9b-e416-27d7604f406b"
      },
      "execution_count": null,
      "outputs": [
        {
          "output_type": "display_data",
          "data": {
            "text/plain": [
              "<Figure size 640x480 with 1 Axes>"
            ],
            "image/png": "[encoded data removed]"
          },
          "metadata": {}
        }
      ]
    },
    {
      "cell_type": "code",
      "source": [
        "vdf.groupby(['year'])['Innings Runs Scored Num'].sum()"
      ],
      "metadata": {
        "colab": {
          "base_uri": "https://localhost:8080/"
        },
        "id": "xhqowzo0dJ2F",
        "outputId": "080f9bf6-b010-42cc-e72a-bd11678158a5"
      },
      "execution_count": null,
      "outputs": [
        {
          "output_type": "execute_result",
          "data": {
            "text/plain": [
              "year\n",
              "2009     325\n",
              "2010     995\n",
              "2011    1381\n",
              "2012    1026\n",
              "2013    1268\n",
              "2014    1054\n",
              "2015     623\n",
              "2016     739\n",
              "2017    1460\n",
              "2018    1202\n",
              "2019    1174\n",
              "Name: Innings Runs Scored Num, dtype: int64"
            ]
          },
          "metadata": {},
          "execution_count": 169
        }
      ]
    },
    {
      "cell_type": "code",
      "source": [
        "vdf.groupby(['year'])['Innings Runs Scored Num'].sum().plot(kind = 'bar')"
      ],
      "metadata": {
        "id": "HtbWr_pau5Qi",
        "outputId": "95a6e23f-123b-494f-bac4-b154890b3f47",
        "colab": {
          "base_uri": "https://localhost:8080/",
          "height": 488
        }
      },
      "execution_count": null,
      "outputs": [
        {
          "output_type": "execute_result",
          "data": {
            "text/plain": [
              "<Axes: xlabel='year'>"
            ]
          },
          "metadata": {},
          "execution_count": 201
        },
        {
          "output_type": "display_data",
          "data": {
            "text/plain": [
              "<Figure size 640x480 with 1 Axes>"
            ],
            "image/png": "[encoded data removed]"
          },
          "metadata": {}
        }
      ]
    },
    {
      "cell_type": "code",
      "source": [
        "###NORMALIZATION\n",
        "\n"
      ],
      "metadata": {
        "id": "G5moZildeEvy"
      },
      "execution_count": null,
      "outputs": []
    },
    {
      "cell_type": "code",
      "source": [
        "#RPI\n",
        "(sum(sdf['Innings Runs Scored Num'])/len(sdf)),(sum(vdf['Innings Runs Scored Num'])/len(vdf))"
      ],
      "metadata": {
        "colab": {
          "base_uri": "https://localhost:8080/"
        },
        "id": "puvMWvn2hjvZ",
        "outputId": "731c9077-cc48-4524-801a-82e6b3ffb36e"
      },
      "execution_count": null,
      "outputs": [
        {
          "output_type": "execute_result",
          "data": {
            "text/plain": [
              "(43.608856088560884, 50.20982142857143)"
            ]
          },
          "metadata": {},
          "execution_count": 174
        }
      ]
    },
    {
      "cell_type": "code",
      "source": [
        "#RPI GENERATION\n",
        "not_sachin = sachin_df[sachin_df['Innings Player'] != 'SR Tendulkar']\n",
        "(sum(not_sachin['Innings Runs Scored Num'])/len(not_sachin))"
      ],
      "metadata": {
        "colab": {
          "base_uri": "https://localhost:8080/"
        },
        "id": "cJEgxWjqhxpc",
        "outputId": "82b1e0c5-3cc6-4a1e-fc2d-1677d4792381"
      },
      "execution_count": null,
      "outputs": [
        {
          "output_type": "execute_result",
          "data": {
            "text/plain": [
              "22.43512946754194"
            ]
          },
          "metadata": {},
          "execution_count": 175
        }
      ]
    },
    {
      "cell_type": "code",
      "source": [
        "(sum(sdf['Innings Runs Scored Num'])/len(sdf))/(sum(not_sachin['Innings Runs Scored Num'])/len(not_sachin)) #IMP"
      ],
      "metadata": {
        "colab": {
          "base_uri": "https://localhost:8080/"
        },
        "id": "5THw4Ld2ifZL",
        "outputId": "168896be-c438-4ee2-eda3-d076628d30dc"
      },
      "execution_count": null,
      "outputs": [
        {
          "output_type": "execute_result",
          "data": {
            "text/plain": [
              "1.9437755485945407"
            ]
          },
          "metadata": {},
          "execution_count": 176
        }
      ]
    },
    {
      "cell_type": "code",
      "source": [
        "#RPI GENERATION\n",
        "not_virat = virat_df[virat_df['Innings Player'] != 'V Kohli']\n",
        "(sum(not_virat['Innings Runs Scored Num'])/len(not_virat))"
      ],
      "metadata": {
        "colab": {
          "base_uri": "https://localhost:8080/"
        },
        "id": "OXcUztMyisbx",
        "outputId": "0a369c8b-59d1-44d5-9666-4f1dca1ce602"
      },
      "execution_count": null,
      "outputs": [
        {
          "output_type": "execute_result",
          "data": {
            "text/plain": [
              "24.737756786500366"
            ]
          },
          "metadata": {},
          "execution_count": 177
        }
      ]
    },
    {
      "cell_type": "code",
      "source": [
        "(sum(vdf['Innings Runs Scored Num'])/len(vdf))/(sum(not_virat['Innings Runs Scored Num'])/len(not_virat)) #IMP"
      ],
      "metadata": {
        "colab": {
          "base_uri": "https://localhost:8080/"
        },
        "id": "V1SM7cv0jC_g",
        "outputId": "7b1868d0-21a3-4513-dba7-6cc5dc3a87a5"
      },
      "execution_count": null,
      "outputs": [
        {
          "output_type": "execute_result",
          "data": {
            "text/plain": [
              "2.029683688052565"
            ]
          },
          "metadata": {},
          "execution_count": 178
        }
      ]
    },
    {
      "cell_type": "code",
      "source": [
        "#SR NORMALISATION"
      ],
      "metadata": {
        "id": "hW59lFzrjKP1"
      },
      "execution_count": null,
      "outputs": []
    },
    {
      "cell_type": "code",
      "source": [
        "100*(sum(sdf['Innings Runs Scored Num']))/(sum(sdf['Innings Balls Faced'])),100*(sum(vdf['Innings Runs Scored Num']))/sum(vdf['Innings Balls Faced'])"
      ],
      "metadata": {
        "colab": {
          "base_uri": "https://localhost:8080/"
        },
        "id": "Sv_LEqBmjUcX",
        "outputId": "45c7b664-429e-4b2a-9644-0036ff80e09a"
      },
      "execution_count": null,
      "outputs": [
        {
          "output_type": "execute_result",
          "data": {
            "text/plain": [
              "(88.21377920429947, 93.56126778138258)"
            ]
          },
          "metadata": {},
          "execution_count": 181
        }
      ]
    },
    {
      "cell_type": "code",
      "source": [
        "not_sachin = sachin_df[sachin_df['Innings Player'] != 'SR Tendulkar']\n"
      ],
      "metadata": {
        "id": "jUgVg-1klTOf"
      },
      "execution_count": null,
      "outputs": []
    },
    {
      "cell_type": "markdown",
      "source": [],
      "metadata": {
        "id": "rtBc3zypl_wz"
      }
    },
    {
      "cell_type": "code",
      "source": [
        "100*sum(not_sachin['Innings Runs Scored Num'])/sum(not_sachin['Innings Balls Faced'])"
      ],
      "metadata": {
        "colab": {
          "base_uri": "https://localhost:8080/"
        },
        "id": "-f6dGQvzlt28",
        "outputId": "6e04490c-2ffb-4765-fa97-6787f4c2333c"
      },
      "execution_count": null,
      "outputs": [
        {
          "output_type": "execute_result",
          "data": {
            "text/plain": [
              "72.33808936558636"
            ]
          },
          "metadata": {},
          "execution_count": 191
        }
      ]
    },
    {
      "cell_type": "code",
      "source": [
        "round(88.21377920429947/72.33808936558636,2)#SR NORMALISED"
      ],
      "metadata": {
        "colab": {
          "base_uri": "https://localhost:8080/"
        },
        "id": "YoW8G7-smCUY",
        "outputId": "1e64c689-ff1f-4dcd-95fc-c47d84a7a6c4"
      },
      "execution_count": null,
      "outputs": [
        {
          "output_type": "execute_result",
          "data": {
            "text/plain": [
              "1.22"
            ]
          },
          "metadata": {},
          "execution_count": 197
        }
      ]
    },
    {
      "cell_type": "code",
      "source": [
        "not_virat = virat_df[virat_df['Innings Player'] != 'V Kohli']"
      ],
      "metadata": {
        "id": "1r_EFdArmMq_"
      },
      "execution_count": null,
      "outputs": []
    },
    {
      "cell_type": "code",
      "source": [
        "100*sum(not_virat['Innings Runs Scored Num'])/sum(not_virat['Innings Balls Faced'])"
      ],
      "metadata": {
        "colab": {
          "base_uri": "https://localhost:8080/"
        },
        "id": "QhMZkBaemdgc",
        "outputId": "c72f0862-29a4-419e-b3ac-9f07ace8ac6b"
      },
      "execution_count": null,
      "outputs": [
        {
          "output_type": "execute_result",
          "data": {
            "text/plain": [
              "83.42743413330612"
            ]
          },
          "metadata": {},
          "execution_count": 200
        }
      ]
    },
    {
      "cell_type": "code",
      "source": [
        "round(93.56126778138258/83.42743413330612) #SR NORmalised"
      ],
      "metadata": {
        "colab": {
          "base_uri": "https://localhost:8080/"
        },
        "id": "PZ7L3Z-RmppF",
        "outputId": "6db7a25f-cd14-4714-d293-896376ef7b35"
      },
      "execution_count": null,
      "outputs": [
        {
          "output_type": "execute_result",
          "data": {
            "text/plain": [
              "1.12"
            ]
          },
          "metadata": {},
          "execution_count": 198
        }
      ]
    },
    {
      "cell_type": "code",
      "source": [],
      "metadata": {
        "id": "oA3ygjotm12z"
      },
      "execution_count": null,
      "outputs": []
    }
  ]
}